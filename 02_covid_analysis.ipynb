{
 "cells": [
  {
   "cell_type": "markdown",
   "metadata": {},
   "source": [
    "## COVID-19 Data Analysis\n",
    "Dataset: covid_19_data.csv\n",
    "\n",
    "Tasks:\n",
    "\n",
    "1.Load and clean data.\n",
    "2.Total confirmed, recovered, deaths globally.\n",
    "3.Country with highest recovery rate.\n",
    "4.Daily new confirmed cases in India (plot it).\n",
    "5.Countries with 10K+ deaths."
   ]
  },
  {
   "cell_type": "code",
   "execution_count": 1,
   "metadata": {},
   "outputs": [],
   "source": [
    "# Import necessary libraries\n",
    "import numpy as np              # for numerical operations \n",
    "import pandas as pd             # for data manipulation and analysis\n",
    "import matplotlib.pyplot as plt # for data visualization"
   ]
  },
  {
   "cell_type": "code",
   "execution_count": 2,
   "metadata": {},
   "outputs": [
    {
     "name": "stdout",
     "output_type": "stream",
     "text": [
      "first 5 rows of the dataset:\n",
      "         Date Country/Region  Confirmed  Deaths  Recovered  Active  New cases  \\\n",
      "0  2020-01-22    Afghanistan          0       0          0       0          0   \n",
      "1  2020-01-22        Albania          0       0          0       0          0   \n",
      "2  2020-01-22        Algeria          0       0          0       0          0   \n",
      "3  2020-01-22        Andorra          0       0          0       0          0   \n",
      "4  2020-01-22         Angola          0       0          0       0          0   \n",
      "\n",
      "   New deaths  New recovered             WHO Region  \n",
      "0           0              0  Eastern Mediterranean  \n",
      "1           0              0                 Europe  \n",
      "2           0              0                 Africa  \n",
      "3           0              0                 Europe  \n",
      "4           0              0                 Africa  \n"
     ]
    }
   ],
   "source": [
    "# Define the file path using a raw string to handle windows backlashes\n",
    "file_path = r\"C:\\Users\\sanjay pallav\\Documents\\Python banny\\Pandas_Mini_Projects\\datasets\\full_grouped.csv\"\n",
    "\n",
    "# 1.Load the dataset with UTF-8 encoding\n",
    "data = pd.read_csv(file_path, encoding='utf-8')\n",
    "\n",
    "# Display the first 5 rows to confirm successful loading\n",
    "print(\"first 5 rows of the dataset:\")\n",
    "print(data.head())"
   ]
  },
  {
   "cell_type": "code",
   "execution_count": 6,
   "metadata": {},
   "outputs": [
    {
     "data": {
      "text/plain": [
       "Date              0\n",
       "Country/Region    0\n",
       "Confirmed         0\n",
       "Deaths            0\n",
       "Recovered         0\n",
       "Active            0\n",
       "New cases         0\n",
       "New deaths        0\n",
       "New recovered     0\n",
       "WHO Region        0\n",
       "dtype: int64"
      ]
     },
     "execution_count": 6,
     "metadata": {},
     "output_type": "execute_result"
    }
   ],
   "source": [
    "# 1.Cleaning the data\n",
    "\n",
    "#check for any null values\n",
    "data.isnull().sum()       # there are no null values"
   ]
  },
  {
   "cell_type": "code",
   "execution_count": 6,
   "metadata": {},
   "outputs": [
    {
     "name": "stdout",
     "output_type": "stream",
     "text": [
      " Total confirmed: 828508482\n",
      " Total recovered: 388408229\n",
      " Total deaths: 43384903\n"
     ]
    }
   ],
   "source": [
    "# 2.Checking Total confirmed, recovered, deaths globally\n",
    "\n",
    "total_confirmed = data[\"Confirmed\"].sum()\n",
    "total_recovered = data[\"Recovered\"].sum()\n",
    "total_deaths = data[\"Deaths\"].sum()\n",
    "print(f\" Total confirmed: {total_confirmed}\")\n",
    "print(f\" Total recovered: {total_recovered}\")\n",
    "print(f\" Total deaths: {total_deaths}\")"
   ]
  },
  {
   "cell_type": "markdown",
   "metadata": {},
   "source": [
    "<span style= \"color: orange;\">\n",
    " Initial failed attempts for\n",
    "  \n",
    "  >3.Country with highest recovery rate</span>"
   ]
  },
  {
   "cell_type": "code",
   "execution_count": 22,
   "metadata": {},
   "outputs": [
    {
     "data": {
      "text/plain": [
       "542    Timor-Leste\n",
       "Name: Country/Region, dtype: object"
      ]
     },
     "execution_count": 22,
     "metadata": {},
     "output_type": "execute_result"
    }
   ],
   "source": [
    "# 3.Country with highest recovery rate\n",
    "\n",
    "highest_index = data[\"Recovered\"].sort_index().tail(1)\n",
    "data.loc[highest_index, \"Country/Region\"]"
   ]
  },
  {
   "cell_type": "code",
   "execution_count": 12,
   "metadata": {},
   "outputs": [
    {
     "data": {
      "text/plain": [
       "'China'"
      ]
     },
     "execution_count": 12,
     "metadata": {},
     "output_type": "execute_result"
    }
   ],
   "source": [
    "#country_recovered = data.groupby(\"Country/Region\")[\"Recovered\"].sum()\n",
    "#country_confirmed = data.groupby(\"Country/Region\")[\"Confirmed\"].sum()\n",
    "#data[\"Recovery Rate\"] = (data[\"Recovered\"]/data[\"Confirmed\"])*100\n",
    "grouped_country = data.groupby(\"Country/Region\")[\"Recovery Rate\"].sum().idxmax()\n",
    "grouped_country\n",
    "#high = data[\"Recovery Rate\"].idxmax()\n",
    "#data.loc[high, \"Country/Region\"]"
   ]
  },
  {
   "cell_type": "markdown",
   "metadata": {},
   "source": [
    "<span style=\"color: pink;\">\n",
    "Finally Succeeded in</span>\n",
    "\n",
    " >3.Country with highest recovery rate"
   ]
  },
  {
   "cell_type": "code",
   "execution_count": 51,
   "metadata": {},
   "outputs": [
    {
     "name": "stdout",
     "output_type": "stream",
     "text": [
      "Country/Region    Holy See\n",
      "Recovered               12\n",
      "Confirmed               12\n",
      "Name: 35044, dtype: object\n"
     ]
    },
    {
     "data": {
      "text/html": [
       "<div>\n",
       "<style scoped>\n",
       "    .dataframe tbody tr th:only-of-type {\n",
       "        vertical-align: middle;\n",
       "    }\n",
       "\n",
       "    .dataframe tbody tr th {\n",
       "        vertical-align: top;\n",
       "    }\n",
       "\n",
       "    .dataframe thead th {\n",
       "        text-align: right;\n",
       "    }\n",
       "</style>\n",
       "<table border=\"1\" class=\"dataframe\">\n",
       "  <thead>\n",
       "    <tr style=\"text-align: right;\">\n",
       "      <th></th>\n",
       "      <th>Recovered</th>\n",
       "      <th>Confirmed</th>\n",
       "    </tr>\n",
       "  </thead>\n",
       "  <tbody>\n",
       "    <tr>\n",
       "      <th>75</th>\n",
       "      <td>0</td>\n",
       "      <td>0</td>\n",
       "    </tr>\n",
       "    <tr>\n",
       "      <th>262</th>\n",
       "      <td>0</td>\n",
       "      <td>0</td>\n",
       "    </tr>\n",
       "    <tr>\n",
       "      <th>449</th>\n",
       "      <td>0</td>\n",
       "      <td>0</td>\n",
       "    </tr>\n",
       "    <tr>\n",
       "      <th>636</th>\n",
       "      <td>0</td>\n",
       "      <td>0</td>\n",
       "    </tr>\n",
       "    <tr>\n",
       "      <th>823</th>\n",
       "      <td>0</td>\n",
       "      <td>0</td>\n",
       "    </tr>\n",
       "    <tr>\n",
       "      <th>...</th>\n",
       "      <td>...</td>\n",
       "      <td>...</td>\n",
       "    </tr>\n",
       "    <tr>\n",
       "      <th>34296</th>\n",
       "      <td>12</td>\n",
       "      <td>12</td>\n",
       "    </tr>\n",
       "    <tr>\n",
       "      <th>34483</th>\n",
       "      <td>12</td>\n",
       "      <td>12</td>\n",
       "    </tr>\n",
       "    <tr>\n",
       "      <th>34670</th>\n",
       "      <td>12</td>\n",
       "      <td>12</td>\n",
       "    </tr>\n",
       "    <tr>\n",
       "      <th>34857</th>\n",
       "      <td>12</td>\n",
       "      <td>12</td>\n",
       "    </tr>\n",
       "    <tr>\n",
       "      <th>35044</th>\n",
       "      <td>12</td>\n",
       "      <td>12</td>\n",
       "    </tr>\n",
       "  </tbody>\n",
       "</table>\n",
       "<p>188 rows × 2 columns</p>\n",
       "</div>"
      ],
      "text/plain": [
       "       Recovered  Confirmed\n",
       "75             0          0\n",
       "262            0          0\n",
       "449            0          0\n",
       "636            0          0\n",
       "823            0          0\n",
       "...          ...        ...\n",
       "34296         12         12\n",
       "34483         12         12\n",
       "34670         12         12\n",
       "34857         12         12\n",
       "35044         12         12\n",
       "\n",
       "[188 rows x 2 columns]"
      ]
     },
     "execution_count": 51,
     "metadata": {},
     "output_type": "execute_result"
    }
   ],
   "source": [
    "# 3.Country with highest recovery rate\n",
    "\n",
    "# Get the latest data per country\n",
    "latest_data = data.sort_values(\"Date\").groupby(\"Country/Region\").tail(1)[[\"Recovered\", \"Confirmed\"]]\n",
    "\n",
    "# Calculate the recovery rate\n",
    "recovery_rate = (latest_data[\"Recovered\"]/latest_data[\"Confirmed\"])*100\n",
    "\n",
    "# Filter out zero confirmed cases\n",
    "recovery_rate = recovery_rate[latest_data[\"Confirmed\"]>0]\n",
    "\n",
    "# Find and print the country with highest rate\n",
    "max_index = recovery_rate.idxmax()\n",
    "print(data.loc[max_index, [\"Country/Region\", \"Recovered\", \"Confirmed\"]])\n",
    "\n",
    "# Verify with raw data (optional)\n",
    "data[data[\"Country/Region\"]=='Holy See'][[\"Recovered\", \"Confirmed\"]]"
   ]
  },
  {
   "cell_type": "code",
   "execution_count": 7,
   "metadata": {},
   "outputs": [
    {
     "data": {
      "image/png": "[encoded data removed]",
      "text/plain": [
       "<Figure size 720x360 with 1 Axes>"
      ]
     },
     "metadata": {
      "needs_background": "light"
     },
     "output_type": "display_data"
    }
   ],
   "source": [
    "# 4. Daily new confirmed cases in India\n",
    "\n",
    "Daily_new_confirmed_cases = data[data[\"Country/Region\"]==\"India\"][\"New cases\"]\n",
    "plt.figure(figsize=(10,5))\n",
    "plt.plot(Daily_new_confirmed_cases)\n",
    "plt.title(\"Daily New Confirmed COVID-19 Cases in India\")\n",
    "plt.xlabel(\"Days since 2020-01-22\")\n",
    "plt.ylabel(\"New Confirmed cases\")\n",
    "plt.grid(True)\n",
    "plt.show()"
   ]
  },
  {
   "cell_type": "code",
   "execution_count": 8,
   "metadata": {},
   "outputs": [
    {
     "data": {
      "text/plain": [
       "array(['Italy', 'Spain', 'US', 'France', 'United Kingdom', 'Brazil',\n",
       "       'Mexico', 'India', 'Iran', 'Peru', 'Russia'], dtype=object)"
      ]
     },
     "execution_count": 8,
     "metadata": {},
     "output_type": "execute_result"
    }
   ],
   "source": [
    "# 5.Countries with 10k+ deaths\n",
    "\n",
    "# Applying the condition for the column Deaths and checking it with \"Country/Region\"\n",
    "data[data[\"Deaths\"]>10000][\"Country/Region\"].unique()"
   ]
  },
  {
   "cell_type": "markdown",
   "metadata": {},
   "source": [
    "## Final Note:\n",
    "\n",
    "Two code cells above represent initial failed attempts for **Task 3: Country with highest recovery rate**. These were intentionally kept to show the trial-and-error process involved in data analysis and problem-solving.\n",
    "\n",
    "Later, the task was successfully completed using a cleaner and more accurate method, as seen in the final code cell under this task."
   ]
  },
  {
   "cell_type": "code",
   "execution_count": null,
   "metadata": {},
   "outputs": [],
   "source": []
  }
 ],
 "metadata": {
  "kernelspec": {
   "display_name": "Python 3",
   "language": "python",
   "name": "python3"
  },
  "language_info": {
   "codemirror_mode": {
    "name": "ipython",
    "version": 3
   },
   "file_extension": ".py",
   "mimetype": "text/x-python",
   "name": "python",
   "nbconvert_exporter": "python",
   "pygments_lexer": "ipython3",
   "version": "3.7.6"
  }
 },
 "nbformat": 4,
 "nbformat_minor": 4
}
